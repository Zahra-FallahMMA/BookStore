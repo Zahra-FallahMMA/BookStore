{
  "nbformat": 4,
  "nbformat_minor": 0,
  "metadata": {
    "colab": {
      "provenance": [],
      "toc_visible": true,
      "include_colab_link": true
    },
    "kernelspec": {
      "name": "python3",
      "display_name": "Python 3"
    },
    "language_info": {
      "name": "python"
    }
  },
  "cells": [
    {
      "cell_type": "markdown",
      "metadata": {
        "id": "view-in-github",
        "colab_type": "text"
      },
      "source": [
        "<a href=\"https://colab.research.google.com/github/Zahra-FallahMMA/BookStore/blob/master/Random_agent.ipynb\" target=\"_parent\"><img src=\"https://colab.research.google.com/assets/colab-badge.svg\" alt=\"Open In Colab\"/></a>"
      ]
    },
    {
      "cell_type": "markdown",
      "source": [
        "# import Libraries"
      ],
      "metadata": {
        "id": "7TJMNjH2MU1I"
      }
    },
    {
      "cell_type": "code",
      "execution_count": null,
      "metadata": {
        "colab": {
          "base_uri": "https://localhost:8080/"
        },
        "id": "V9QPpvugMF0Q",
        "outputId": "e752d07d-d5fd-4a07-a4ce-669b18706535"
      },
      "outputs": [
        {
          "output_type": "stream",
          "name": "stdout",
          "text": [
            "Requirement already satisfied: simpy in /usr/local/lib/python3.10/dist-packages (4.1.1)\n"
          ]
        }
      ],
      "source": [
        "import xml.etree.ElementTree as ET\n",
        "from io import StringIO\n",
        "import os\n",
        "import re\n",
        "import numpy as np\n",
        "from collections import deque, defaultdict\n",
        "import random\n",
        "from keras.models import Sequential\n",
        "from keras.layers import Dense, Dropout\n",
        "from keras.optimizers import Adam\n",
        "from keras.models import load_model\n",
        "from itertools import product\n",
        "import tensorflow as tf\n",
        "!pip install simpy\n",
        "import simpy\n",
        "\n",
        "# Set TensorFlow logging level to suppress detailed logs\n",
        "os.environ['TF_CPP_MIN_LOG_LEVEL'] = '3'\n",
        "tf.get_logger().setLevel('ERROR')"
      ]
    },
    {
      "cell_type": "markdown",
      "source": [
        "# class RandomAgent"
      ],
      "metadata": {
        "id": "vpdcAQC-NOKS"
      }
    },
    {
      "cell_type": "code",
      "source": [
        "class RandomAgent:\n",
        "\n",
        "  def __init__(self, action_size):\n",
        "      self.action_size = action_size\n",
        "\n",
        "  def choose_action(self):\n",
        "        return random.randrange(self.action_size)\n",
        "\n"
      ],
      "metadata": {
        "id": "1Isi7OtoMj7a"
      },
      "execution_count": null,
      "outputs": []
    },
    {
      "cell_type": "markdown",
      "source": [
        "# class Task"
      ],
      "metadata": {
        "id": "39y_MTzXNVH2"
      }
    },
    {
      "cell_type": "code",
      "source": [
        "class Task:\n",
        "    def __init__(self, id, instructions, workflow_id):\n",
        "        self.id = id\n",
        "        self.instructions = instructions  # Execution time or computational instructions\n",
        "        self.children = []  # List of tasks that depend on this task\n",
        "        self.parents = []  # List of tasks this task depends on\n",
        "        self.executed = False  # Status of execution\n",
        "        self.executed_on = None  # Node this task was executed on\n",
        "        self.execution_time = 0  # Time taken to execute the task\n",
        "        self.cost = 0  # Cost of executing the task\n",
        "        self.comm_delay = 0  # Communication delay in seconds\n",
        "        self.workflow_id = workflow_id  # Workflow identifier to which this task belongs\n"
      ],
      "metadata": {
        "id": "OYMwB8lWNXKZ"
      },
      "execution_count": null,
      "outputs": []
    },
    {
      "cell_type": "markdown",
      "source": [
        "# class Workflow"
      ],
      "metadata": {
        "id": "pyB4NP-DftsQ"
      }
    },
    {
      "cell_type": "code",
      "source": [
        "class Workflow:\n",
        "    def __init__(self, id):\n",
        "        self.id = id  # Workflow identifier\n",
        "        self.tasks = {}  # Dictionary of tasks in the workflow\n",
        "\n",
        "    def add_task(self, task_id, instructions, parent_ids=[]):\n",
        "        if task_id not in self.tasks:\n",
        "            self.tasks[task_id] = Task(task_id, instructions, self.id)\n",
        "        task = self.tasks[task_id]\n",
        "        for parent_id in parent_ids:\n",
        "            if parent_id not in self.tasks:\n",
        "                self.tasks[parent_id] = Task(parent_id, 0, self.id)\n",
        "            parent_task = self.tasks[parent_id]\n",
        "            parent_task.children.append(task)\n",
        "            task.parents.append(parent_task)"
      ],
      "metadata": {
        "id": "vw7CjIUlfxAa"
      },
      "execution_count": null,
      "outputs": []
    },
    {
      "cell_type": "markdown",
      "source": [
        "# class parse_dax"
      ],
      "metadata": {
        "id": "Xn6WaMhjf4kb"
      }
    },
    {
      "cell_type": "code",
      "source": [
        "def parse_dax(file_path, workflow_id):\n",
        "    tree = ET.parse(file_path)\n",
        "    root = tree.getroot()\n",
        "\n",
        "    workflow_id = workflow_id\n",
        "    workflow = Workflow(workflow_id)\n",
        "\n",
        "    # Parse jobs\n",
        "    jobs = {job.attrib['id']: job for job in root.findall('{http://pegasus.isi.edu/schema/DAX}job')}\n",
        "\n",
        "    # Add jobs to workflow\n",
        "    for job_id, job in jobs.items():\n",
        "        instructions = float(job.attrib.get('runtime', 0))\n",
        "        workflow.add_task(job_id, instructions)\n",
        "\n",
        "    # Parse dependencies\n",
        "    for child in root.findall('{http://pegasus.isi.edu/schema/DAX}child'):\n",
        "        child_id = child.attrib['ref']\n",
        "        parent_ids = [parent.attrib['ref'] for parent in child.findall('{http://pegasus.isi.edu/schema/DAX}parent')]\n",
        "        workflow.add_task(child_id, 0, parent_ids)  # Adds a child node with its parent nodes, setting instructions to 0 to avoid overwrite\n",
        "\n",
        "    return workflow\n",
        "\n",
        "\n",
        "def ensemble_of_workflows(name, size=10, distribution='constant', dax_path=''):\n",
        "    ws = []\n",
        "    ensemble = []\n",
        "    directory_path = dax_path  # Directory containing DAX files\n",
        "\n",
        "    # List and filter files in directory\n",
        "    files = os.listdir(directory_path)\n",
        "    filtered_files = [file for file in files if name in file]\n",
        "\n",
        "    if distribution == 'constant':\n",
        "        pattern = r'100(?!\\d)'\n",
        "        for s in filtered_files:\n",
        "            if re.search(pattern, s):\n",
        "                ensemble = [s] * size  # Replicate the matched file 'size' times\n",
        "                break\n",
        "    else:\n",
        "        numbers = np.random.randint(0, len(filtered_files), size)\n",
        "        ensemble = [filtered_files[i] for i in numbers]  # Select random files based on uniform distribution\n",
        "    w_id = 0\n",
        "    for name in ensemble:\n",
        "        ws.append(parse_dax(dax_path+name,w_id))\n",
        "        w_id = w_id + 1\n",
        "\n",
        "    return ws"
      ],
      "metadata": {
        "id": "P8VHeEFEf4Nc"
      },
      "execution_count": null,
      "outputs": []
    },
    {
      "cell_type": "markdown",
      "source": [
        "# Loading dax_file"
      ],
      "metadata": {
        "id": "KDgtBQo9gBov"
      }
    },
    {
      "cell_type": "code",
      "source": [
        "from google.colab import drive\n",
        "import glob\n",
        "\n",
        "drive.mount('/content/drive')\n",
        "folder_path = '/content/drive/My Drive/Zahra/dax/'"
      ],
      "metadata": {
        "colab": {
          "base_uri": "https://localhost:8080/"
        },
        "id": "syuEzItVgBVu",
        "outputId": "7272a495-5db8-46cf-f392-898a131d27b1"
      },
      "execution_count": null,
      "outputs": [
        {
          "output_type": "stream",
          "name": "stdout",
          "text": [
            "Drive already mounted at /content/drive; to attempt to forcibly remount, call drive.mount(\"/content/drive\", force_remount=True).\n"
          ]
        }
      ]
    },
    {
      "cell_type": "markdown",
      "source": [
        "# class Device"
      ],
      "metadata": {
        "id": "y2TUa2bMgL90"
      }
    },
    {
      "cell_type": "code",
      "source": [
        "class Device:\n",
        "    def __init__(self, id, mips, cost_per_hour, env):\n",
        "        self.id = id\n",
        "        self.mips = mips\n",
        "        self.cost_per_hour = cost_per_hour\n",
        "        self.queue = deque()\n",
        "        self.runnig_queue = deque()\n",
        "        self.resource = simpy.Resource(env, capacity=1)\n",
        "\n",
        "    def add_task_to_queue(self, task):\n",
        "        self.queue.append(task)\n",
        "\n",
        "    def get_next_task(self):\n",
        "        return self.queue.popleft() if self.queue else None\n",
        "\n",
        "    def waiting_time(self):\n",
        "        waiting_time = 0\n",
        "        for t in self.queue:\n",
        "            waiting_time += t.instructions / self.mips\n",
        "        return waiting_time\n"
      ],
      "metadata": {
        "id": "8ghksTc5gPQt"
      },
      "execution_count": null,
      "outputs": []
    },
    {
      "cell_type": "markdown",
      "source": [
        "# class FogEnv"
      ],
      "metadata": {
        "id": "rvBFcN7zgXvl"
      }
    },
    {
      "cell_type": "code",
      "source": [
        "import simpy\n",
        "\n",
        "class FogEnv:\n",
        "    def __init__(self, env, iot_devices, fog_nodes, cloud_servers, workflows):\n",
        "        self.env = env\n",
        "        self.iot_devices = iot_devices\n",
        "        self.fog_nodes = fog_nodes\n",
        "        self.cloud_servers = cloud_servers\n",
        "        self.cost = 0\n",
        "        self.completed_workflows = 0\n",
        "        self.workflows = workflows\n",
        "\n",
        "    def assign_task(self, task, device):\n",
        "        with device.resource.request() as req:\n",
        "            yield req\n",
        "            instructions = task.instructions\n",
        "            execution_time = instructions / device.mips\n",
        "            yield self.env.timeout(execution_time)\n",
        "            self.cost += execution_time * device.cost_per_hour\n",
        "            task.executed = True\n",
        "            task.execution_time = execution_time\n",
        "            device.queue.popleft()\n",
        "            # print(f\"Task {task.id} of workflow {task.workflow_id} completed on {device.id} at time {self.env.now}\")\n",
        "\n",
        "            # Check if the workflow is completed\n",
        "            workflow = next(wf for wf in self.workflows if wf.id == task.workflow_id)\n",
        "            self.check_workflow_completion(workflow)\n",
        "\n",
        "\n",
        "    def get_device_by_id(self, device_id):\n",
        "        for device in self.iot_devices + self.fog_nodes + self.cloud_servers:\n",
        "            if device.id == device_id:\n",
        "                return device\n",
        "        return None\n",
        "\n",
        "    def check_workflow_completion(self, workflow):\n",
        "        # Check if all tasks in the workflow are executed\n",
        "        if all(task.executed for task in workflow.tasks.values()):\n",
        "            self.completed_workflows += 1  # Increment completed workflows counter\n",
        "            # print(f\"Workflow {workflow.id} is completed! Total completed workflows: {self.completed_workflows}\")\n",
        "\n",
        "\n",
        "\n",
        "\n",
        "\n",
        "def process_workflow(env, workflow, fog_env, agent):\n",
        "      # A list to hold all the processes (tasks)\n",
        "      processes = []\n",
        "\n",
        "      for task in workflow.tasks.values():\n",
        "          if task.executed:\n",
        "            continue\n",
        "          if all([parent.executed for parent in task.parents]) or task.parents == []:\n",
        "              state = np.array(fog_env.get_state(task)).reshape(1, -1)\n",
        "              action = agent.choose_action(state)\n",
        "\n",
        "              devices = fog_env.iot_devices + fog_env.fog_nodes + fog_env.cloud_servers\n",
        "              device = devices[action]\n",
        "\n",
        "              device.add_task_to_queue(task)\n",
        "              task.executed_on = device.id\n",
        "\n",
        "              # Start the task assignment process in SimPy\n",
        "              process = env.process(fog_env.assign_task(task, device))\n",
        "              processes.append(process)  # Add the process to the list for tracking\n",
        "\n",
        "      # Wait until all the processes finish (concurrent execution)\n",
        "      yield env.all_of(processes)\n"
      ],
      "metadata": {
        "id": "z2SkHEE2gZ5H"
      },
      "execution_count": null,
      "outputs": []
    },
    {
      "cell_type": "markdown",
      "source": [
        "# class NewSim"
      ],
      "metadata": {
        "id": "lDhl94aPg1Cp"
      }
    },
    {
      "cell_type": "code",
      "source": [
        "class  NewSim:\n",
        "    def __init__(self, num_iot, num_fog, num_server):\n",
        "        self.num_iot = num_iot\n",
        "        self.num_fog = num_fog\n",
        "        self.num_server = num_server\n",
        "        self.num_totla_dev = num_iot + num_fog + num_server\n",
        "        self.env = simpy.Environment()\n",
        "        self.reset()\n",
        "        self.run()\n",
        "\n",
        "    def reset(self):\n",
        "        self.iot_devices = [Device(f'iot_{i}', 500, 0, self.env) for i in range(self.num_iot)]\n",
        "        self.fog_devices = [Device(f'fog_{i}', 4000, 1, self.env) for i in range(self.num_fog)]\n",
        "        self.server_devices = [Device(f'server_{i}', 6000, 8, self.env) for i in range(self.num_server)]\n",
        "        self.agent = RandomAgent(action_size=self.num_totla_dev)\n",
        "        self.workflows = ensemble_of_workflows(name = 'CyberShake', size=100, distribution = 'constant', dax_path=\"/content/drive/My Drive/Zahra/dax/\")\n",
        "\n",
        "    def run(self):\n",
        "        self.fog_env = FogEnv(self.env, self.iot_devices, self.fog_devices, self.server_devices,self.workflows)\n",
        "        for workflow in self.workflows:\n",
        "                self.env.process(process_workflow(self.env, workflow, self.fog_env, self.agent))\n",
        "\n",
        "        self.env.run()  # Run simulation for a time period\n"
      ],
      "metadata": {
        "id": "dhejYIQqg4ih"
      },
      "execution_count": null,
      "outputs": []
    },
    {
      "cell_type": "markdown",
      "source": [
        "# run simulation"
      ],
      "metadata": {
        "id": "8EzQS6DxhiYF"
      }
    },
    {
      "cell_type": "code",
      "source": [
        "def run_simulation_with_results_tracking():\n",
        "\n",
        "    # Workflow configurations with specific sizes\n",
        "    workflow_configs = {\n",
        "        'CyberShake': [10, 20, 30, 40, 50, 60, 70, 80, 90, 100],\n",
        "        'Montage': [10, 20, 30, 40, 50, 60, 70, 80, 90, 100],\n",
        "        'Inspiral': [10, 20, 30, 40, 50, 60, 70, 80, 90, 100],\n",
        "        'Sipht': [10, 20, 30, 40, 50, 60, 70, 80, 90, 100]\n",
        "    }\n",
        "    workflow_distributions = ['constant', 'uniform']\n",
        "    dax_path = \"/content/drive/My Drive/Zahra/dax/\"\n",
        "\n",
        "    # Dictionary to store results\n",
        "    results = {}\n",
        "\n",
        "    # Loop through configurations\n",
        "    for name, sizes in workflow_configs.items():\n",
        "        for size in sizes:\n",
        "            for distribution in workflow_distributions:\n",
        "                print(f\"Running simulation for Workflow: {name}, Size: {size}, Distribution: {distribution}\")\n",
        "\n",
        "                # Set up the simulation with the current parameters\n",
        "                simulation = NewSim(\n",
        "                    num_iot=10,\n",
        "                    num_fog=8,\n",
        "                    num_server=5,\n",
        "                )\n",
        "\n",
        "                # Update the workflow parameters\n",
        "                simulation.workflows = ensemble_of_workflows(\n",
        "                    name=name,\n",
        "                    size=size,\n",
        "                    distribution=distribution,\n",
        "                    dax_path=dax_path\n",
        "                )\n",
        "\n",
        "                # Run the simulation\n",
        "                simulation.run()\n",
        "\n",
        "                # Save results in the dictionary\n",
        "                key = (name, size, distribution)\n",
        "                results[key] = {\n",
        "                    'total_cost': simulation.fog_env.cost,\n",
        "                    'total_time': simulation.env.now  # Assuming `env.now` tracks simulation time\n",
        "                }\n",
        "\n",
        "                # Print results for current run\n",
        "                print(f\"Total cost for Workflow {name} ({distribution}, size={size}): {results[key]['total_cost']}\")\n",
        "                print(f\"Total time for Workflow {name} ({distribution}, size={size}): {results[key]['total_time']}\")\n",
        "\n",
        "    # Print summary of results\n",
        "    print(\"\\nSummary of Results:\")\n",
        "    for key, value in results.items():\n",
        "        name, size, distribution = key\n",
        "        print(f\"Workflow: {name}, Size: {size}, Distribution: {distribution} -> Cost: {value['total_cost']}, Time: {value['total_time']}\")\n"
      ],
      "metadata": {
        "id": "mlqEyghBNnQR"
      },
      "execution_count": null,
      "outputs": []
    },
    {
      "cell_type": "code",
      "source": [
        "run_simulation_with_results_tracking()"
      ],
      "metadata": {
        "colab": {
          "base_uri": "https://localhost:8080/"
        },
        "id": "06AO6P6BOMt7",
        "outputId": "39d7be9a-f5e5-4d4c-f4ff-c1005ba48c85"
      },
      "execution_count": null,
      "outputs": [
        {
          "output_type": "stream",
          "name": "stdout",
          "text": [
            "Running simulation for Workflow: CyberShake, Size: 30, Distribution: constant\n",
            "Total cost for Workflow CyberShake (constant, size=30): 34.09993416666667\n",
            "Total time for Workflow CyberShake (constant, size=30): 44.829170833333336\n",
            "Running simulation for Workflow: CyberShake, Size: 30, Distribution: uniform\n",
            "Total cost for Workflow CyberShake (uniform, size=30): 69.21489250000015\n",
            "Total time for Workflow CyberShake (uniform, size=30): 72.51855833333339\n",
            "Running simulation for Workflow: CyberShake, Size: 50, Distribution: constant\n",
            "Total cost for Workflow CyberShake (constant, size=50): 60.771981666666605\n",
            "Total time for Workflow CyberShake (constant, size=50): 55.70866749999991\n",
            "Running simulation for Workflow: CyberShake, Size: 50, Distribution: uniform\n",
            "Total cost for Workflow CyberShake (uniform, size=50): 89.72427083333385\n",
            "Total time for Workflow CyberShake (uniform, size=50): 76.10841333333353\n",
            "Running simulation for Workflow: CyberShake, Size: 100, Distribution: constant\n",
            "Total cost for Workflow CyberShake (constant, size=100): 119.49052416666845\n",
            "Total time for Workflow CyberShake (constant, size=100): 65.51790249999996\n",
            "Running simulation for Workflow: CyberShake, Size: 100, Distribution: uniform\n",
            "Total cost for Workflow CyberShake (uniform, size=100): 221.53443750000204\n",
            "Total time for Workflow CyberShake (uniform, size=100): 104.95716916666686\n",
            "Running simulation for Workflow: CyberShake, Size: 1000, Distribution: constant\n",
            "Total cost for Workflow CyberShake (constant, size=1000): 1207.4438508332291\n",
            "Total time for Workflow CyberShake (constant, size=1000): 324.00815249999613\n",
            "Running simulation for Workflow: CyberShake, Size: 1000, Distribution: uniform\n",
            "Total cost for Workflow CyberShake (uniform, size=1000): 2488.6353616664633\n",
            "Total time for Workflow CyberShake (uniform, size=1000): 635.962785000013\n",
            "Running simulation for Workflow: Montage, Size: 20, Distribution: constant\n",
            "Total cost for Workflow Montage (constant, size=20): 8.242696666666635\n",
            "Total time for Workflow Montage (constant, size=20): 34.47206000000003\n",
            "Running simulation for Workflow: Montage, Size: 20, Distribution: uniform\n",
            "Total cost for Workflow Montage (uniform, size=20): 8.626921666666671\n",
            "Total time for Workflow Montage (uniform, size=20): 37.95745666666678\n",
            "Running simulation for Workflow: Montage, Size: 40, Distribution: constant\n",
            "Total cost for Workflow Montage (constant, size=40): 16.200199999999935\n",
            "Total time for Workflow Montage (constant, size=40): 37.632711666666665\n",
            "Running simulation for Workflow: Montage, Size: 40, Distribution: uniform\n",
            "Total cost for Workflow Montage (uniform, size=40): 18.04349083333327\n",
            "Total time for Workflow Montage (uniform, size=40): 39.842790000000065\n",
            "Running simulation for Workflow: Montage, Size: 60, Distribution: constant\n",
            "Total cost for Workflow Montage (constant, size=60): 24.672019166666615\n",
            "Total time for Workflow Montage (constant, size=60): 39.4134375\n",
            "Running simulation for Workflow: Montage, Size: 60, Distribution: uniform\n",
            "Total cost for Workflow Montage (uniform, size=60): 27.925125833333272\n",
            "Total time for Workflow Montage (uniform, size=60): 41.51172166666682\n",
            "Running simulation for Workflow: Montage, Size: 80, Distribution: constant\n",
            "Total cost for Workflow Montage (constant, size=80): 32.04601833333328\n",
            "Total time for Workflow Montage (constant, size=80): 43.12468249999992\n",
            "Running simulation for Workflow: Montage, Size: 80, Distribution: uniform\n",
            "Total cost for Workflow Montage (uniform, size=80): 38.56062833333341\n",
            "Total time for Workflow Montage (uniform, size=80): 44.80628750000014\n",
            "Running simulation for Workflow: Montage, Size: 100, Distribution: constant\n",
            "Total cost for Workflow Montage (constant, size=100): 41.082124166666794\n",
            "Total time for Workflow Montage (constant, size=100): 43.467020833333166\n",
            "Running simulation for Workflow: Montage, Size: 100, Distribution: uniform\n",
            "Total cost for Workflow Montage (uniform, size=100): 49.55257666666717\n",
            "Total time for Workflow Montage (uniform, size=100): 47.1044808333334\n",
            "Running simulation for Workflow: Montage, Size: 200, Distribution: constant\n",
            "Total cost for Workflow Montage (constant, size=200): 81.0129691666663\n",
            "Total time for Workflow Montage (constant, size=200): 53.03147833333309\n",
            "Running simulation for Workflow: Montage, Size: 200, Distribution: uniform\n",
            "Total cost for Workflow Montage (uniform, size=200): 91.19530583333221\n",
            "Total time for Workflow Montage (uniform, size=200): 54.86326833333342\n",
            "Running simulation for Workflow: Montage, Size: 300, Distribution: constant\n",
            "Total cost for Workflow Montage (constant, size=300): 123.33667416666434\n",
            "Total time for Workflow Montage (constant, size=300): 64.36563583333287\n",
            "Running simulation for Workflow: Montage, Size: 300, Distribution: uniform\n",
            "Total cost for Workflow Montage (uniform, size=300): 135.45602416666634\n",
            "Total time for Workflow Montage (uniform, size=300): 68.14575000000028\n",
            "Running simulation for Workflow: Inspiral, Size: 30, Distribution: constant\n",
            "Total cost for Workflow Inspiral (constant, size=30): 238.8034250000001\n",
            "Total time for Workflow Inspiral (constant, size=30): 114.35340999999984\n",
            "Running simulation for Workflow: Inspiral, Size: 30, Distribution: uniform\n",
            "Total cost for Workflow Inspiral (uniform, size=30): 735.5561350000012\n",
            "Total time for Workflow Inspiral (uniform, size=30): 402.7621733333338\n",
            "Running simulation for Workflow: Inspiral, Size: 50, Distribution: constant\n",
            "Total cost for Workflow Inspiral (constant, size=50): 403.8829749999988\n",
            "Total time for Workflow Inspiral (constant, size=50): 153.04759333333334\n",
            "Running simulation for Workflow: Inspiral, Size: 50, Distribution: uniform\n",
            "Total cost for Workflow Inspiral (uniform, size=50): 1676.57917249999\n",
            "Total time for Workflow Inspiral (uniform, size=50): 667.0813416666665\n",
            "Running simulation for Workflow: Inspiral, Size: 100, Distribution: constant\n",
            "Total cost for Workflow Inspiral (constant, size=100): 812.3716075000139\n",
            "Total time for Workflow Inspiral (constant, size=100): 244.34020666666683\n",
            "Running simulation for Workflow: Inspiral, Size: 100, Distribution: uniform\n",
            "Total cost for Workflow Inspiral (uniform, size=100): 2591.064173333331\n",
            "Total time for Workflow Inspiral (uniform, size=100): 884.9324025\n",
            "Running simulation for Workflow: Inspiral, Size: 1000, Distribution: constant\n",
            "Total cost for Workflow Inspiral (constant, size=1000): 7946.1714583331795\n",
            "Total time for Workflow Inspiral (constant, size=1000): 1900.215716666686\n",
            "Running simulation for Workflow: Inspiral, Size: 1000, Distribution: uniform\n",
            "Total cost for Workflow Inspiral (uniform, size=1000): 25741.22288583172\n",
            "Total time for Workflow Inspiral (uniform, size=1000): 6267.17445833337\n",
            "Running simulation for Workflow: Sipht, Size: 29, Distribution: constant\n",
            "Total cost for Workflow Sipht (constant, size=29): 168.19584895833339\n",
            "Total time for Workflow Sipht (constant, size=29): 119.23512327500012\n",
            "Running simulation for Workflow: Sipht, Size: 29, Distribution: uniform\n",
            "Total cost for Workflow Sipht (uniform, size=29): 107.1864367166666\n",
            "Total time for Workflow Sipht (uniform, size=29): 93.27476509166674\n",
            "Running simulation for Workflow: Sipht, Size: 58, Distribution: constant\n",
            "Total cost for Workflow Sipht (constant, size=58): 356.8243456833332\n",
            "Total time for Workflow Sipht (constant, size=58): 181.3930066583334\n",
            "Running simulation for Workflow: Sipht, Size: 58, Distribution: uniform\n",
            "Total cost for Workflow Sipht (uniform, size=58): 906.503445108327\n",
            "Total time for Workflow Sipht (uniform, size=58): 584.5789584083327\n",
            "Running simulation for Workflow: Sipht, Size: 100, Distribution: constant\n",
            "Total cost for Workflow Sipht (constant, size=100): 620.0577516416645\n",
            "Total time for Workflow Sipht (constant, size=100): 245.06464031666607\n",
            "Running simulation for Workflow: Sipht, Size: 100, Distribution: uniform\n",
            "Total cost for Workflow Sipht (uniform, size=100): 1704.693345766687\n",
            "Total time for Workflow Sipht (uniform, size=100): 809.6970966166658\n",
            "Running simulation for Workflow: Sipht, Size: 968, Distribution: constant\n",
            "Total cost for Workflow Sipht (constant, size=968): 6383.058786233124\n",
            "Total time for Workflow Sipht (constant, size=968): 1598.7678510333271\n",
            "Running simulation for Workflow: Sipht, Size: 968, Distribution: uniform\n",
            "Total cost for Workflow Sipht (uniform, size=968): 14417.560167474281\n",
            "Total time for Workflow Sipht (uniform, size=968): 3924.936808841643\n",
            "\n",
            "Summary of Results:\n",
            "Workflow: CyberShake, Size: 30, Distribution: constant -> Cost: 34.09993416666667, Time: 44.829170833333336\n",
            "Workflow: CyberShake, Size: 30, Distribution: uniform -> Cost: 69.21489250000015, Time: 72.51855833333339\n",
            "Workflow: CyberShake, Size: 50, Distribution: constant -> Cost: 60.771981666666605, Time: 55.70866749999991\n",
            "Workflow: CyberShake, Size: 50, Distribution: uniform -> Cost: 89.72427083333385, Time: 76.10841333333353\n",
            "Workflow: CyberShake, Size: 100, Distribution: constant -> Cost: 119.49052416666845, Time: 65.51790249999996\n",
            "Workflow: CyberShake, Size: 100, Distribution: uniform -> Cost: 221.53443750000204, Time: 104.95716916666686\n",
            "Workflow: CyberShake, Size: 1000, Distribution: constant -> Cost: 1207.4438508332291, Time: 324.00815249999613\n",
            "Workflow: CyberShake, Size: 1000, Distribution: uniform -> Cost: 2488.6353616664633, Time: 635.962785000013\n",
            "Workflow: Montage, Size: 20, Distribution: constant -> Cost: 8.242696666666635, Time: 34.47206000000003\n",
            "Workflow: Montage, Size: 20, Distribution: uniform -> Cost: 8.626921666666671, Time: 37.95745666666678\n",
            "Workflow: Montage, Size: 40, Distribution: constant -> Cost: 16.200199999999935, Time: 37.632711666666665\n",
            "Workflow: Montage, Size: 40, Distribution: uniform -> Cost: 18.04349083333327, Time: 39.842790000000065\n",
            "Workflow: Montage, Size: 60, Distribution: constant -> Cost: 24.672019166666615, Time: 39.4134375\n",
            "Workflow: Montage, Size: 60, Distribution: uniform -> Cost: 27.925125833333272, Time: 41.51172166666682\n",
            "Workflow: Montage, Size: 80, Distribution: constant -> Cost: 32.04601833333328, Time: 43.12468249999992\n",
            "Workflow: Montage, Size: 80, Distribution: uniform -> Cost: 38.56062833333341, Time: 44.80628750000014\n",
            "Workflow: Montage, Size: 100, Distribution: constant -> Cost: 41.082124166666794, Time: 43.467020833333166\n",
            "Workflow: Montage, Size: 100, Distribution: uniform -> Cost: 49.55257666666717, Time: 47.1044808333334\n",
            "Workflow: Montage, Size: 200, Distribution: constant -> Cost: 81.0129691666663, Time: 53.03147833333309\n",
            "Workflow: Montage, Size: 200, Distribution: uniform -> Cost: 91.19530583333221, Time: 54.86326833333342\n",
            "Workflow: Montage, Size: 300, Distribution: constant -> Cost: 123.33667416666434, Time: 64.36563583333287\n",
            "Workflow: Montage, Size: 300, Distribution: uniform -> Cost: 135.45602416666634, Time: 68.14575000000028\n",
            "Workflow: Inspiral, Size: 30, Distribution: constant -> Cost: 238.8034250000001, Time: 114.35340999999984\n",
            "Workflow: Inspiral, Size: 30, Distribution: uniform -> Cost: 735.5561350000012, Time: 402.7621733333338\n",
            "Workflow: Inspiral, Size: 50, Distribution: constant -> Cost: 403.8829749999988, Time: 153.04759333333334\n",
            "Workflow: Inspiral, Size: 50, Distribution: uniform -> Cost: 1676.57917249999, Time: 667.0813416666665\n",
            "Workflow: Inspiral, Size: 100, Distribution: constant -> Cost: 812.3716075000139, Time: 244.34020666666683\n",
            "Workflow: Inspiral, Size: 100, Distribution: uniform -> Cost: 2591.064173333331, Time: 884.9324025\n",
            "Workflow: Inspiral, Size: 1000, Distribution: constant -> Cost: 7946.1714583331795, Time: 1900.215716666686\n",
            "Workflow: Inspiral, Size: 1000, Distribution: uniform -> Cost: 25741.22288583172, Time: 6267.17445833337\n",
            "Workflow: Sipht, Size: 29, Distribution: constant -> Cost: 168.19584895833339, Time: 119.23512327500012\n",
            "Workflow: Sipht, Size: 29, Distribution: uniform -> Cost: 107.1864367166666, Time: 93.27476509166674\n",
            "Workflow: Sipht, Size: 58, Distribution: constant -> Cost: 356.8243456833332, Time: 181.3930066583334\n",
            "Workflow: Sipht, Size: 58, Distribution: uniform -> Cost: 906.503445108327, Time: 584.5789584083327\n",
            "Workflow: Sipht, Size: 100, Distribution: constant -> Cost: 620.0577516416645, Time: 245.06464031666607\n",
            "Workflow: Sipht, Size: 100, Distribution: uniform -> Cost: 1704.693345766687, Time: 809.6970966166658\n",
            "Workflow: Sipht, Size: 968, Distribution: constant -> Cost: 6383.058786233124, Time: 1598.7678510333271\n",
            "Workflow: Sipht, Size: 968, Distribution: uniform -> Cost: 14417.560167474281, Time: 3924.936808841643\n"
          ]
        }
      ]
    }
  ]
}